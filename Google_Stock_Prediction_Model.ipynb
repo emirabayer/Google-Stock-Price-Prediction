{
 "cells": [
  {
   "cell_type": "code",
   "execution_count": 12,
   "id": "a5fab3a4",
   "metadata": {},
   "outputs": [
    {
     "data": {
      "text/html": [
       "<div>\n",
       "<style scoped>\n",
       "    .dataframe tbody tr th:only-of-type {\n",
       "        vertical-align: middle;\n",
       "    }\n",
       "\n",
       "    .dataframe tbody tr th {\n",
       "        vertical-align: top;\n",
       "    }\n",
       "\n",
       "    .dataframe thead th {\n",
       "        text-align: right;\n",
       "    }\n",
       "</style>\n",
       "<table border=\"1\" class=\"dataframe\">\n",
       "  <thead>\n",
       "    <tr style=\"text-align: right;\">\n",
       "      <th></th>\n",
       "      <th>Date</th>\n",
       "      <th>Open</th>\n",
       "      <th>High</th>\n",
       "      <th>Low</th>\n",
       "      <th>Close</th>\n",
       "      <th>Volume</th>\n",
       "    </tr>\n",
       "  </thead>\n",
       "  <tbody>\n",
       "    <tr>\n",
       "      <th>0</th>\n",
       "      <td>1/3/2012</td>\n",
       "      <td>325.25</td>\n",
       "      <td>332.83</td>\n",
       "      <td>324.97</td>\n",
       "      <td>663.59</td>\n",
       "      <td>7,380,500</td>\n",
       "    </tr>\n",
       "    <tr>\n",
       "      <th>1</th>\n",
       "      <td>1/4/2012</td>\n",
       "      <td>331.27</td>\n",
       "      <td>333.87</td>\n",
       "      <td>329.08</td>\n",
       "      <td>666.45</td>\n",
       "      <td>5,749,400</td>\n",
       "    </tr>\n",
       "    <tr>\n",
       "      <th>2</th>\n",
       "      <td>1/5/2012</td>\n",
       "      <td>329.83</td>\n",
       "      <td>330.75</td>\n",
       "      <td>326.89</td>\n",
       "      <td>657.21</td>\n",
       "      <td>6,590,300</td>\n",
       "    </tr>\n",
       "    <tr>\n",
       "      <th>3</th>\n",
       "      <td>1/6/2012</td>\n",
       "      <td>328.34</td>\n",
       "      <td>328.77</td>\n",
       "      <td>323.68</td>\n",
       "      <td>648.24</td>\n",
       "      <td>5,405,900</td>\n",
       "    </tr>\n",
       "    <tr>\n",
       "      <th>4</th>\n",
       "      <td>1/9/2012</td>\n",
       "      <td>322.04</td>\n",
       "      <td>322.29</td>\n",
       "      <td>309.46</td>\n",
       "      <td>620.76</td>\n",
       "      <td>11,688,800</td>\n",
       "    </tr>\n",
       "  </tbody>\n",
       "</table>\n",
       "</div>"
      ],
      "text/plain": [
       "       Date    Open    High     Low   Close      Volume\n",
       "0  1/3/2012  325.25  332.83  324.97  663.59   7,380,500\n",
       "1  1/4/2012  331.27  333.87  329.08  666.45   5,749,400\n",
       "2  1/5/2012  329.83  330.75  326.89  657.21   6,590,300\n",
       "3  1/6/2012  328.34  328.77  323.68  648.24   5,405,900\n",
       "4  1/9/2012  322.04  322.29  309.46  620.76  11,688,800"
      ]
     },
     "execution_count": 12,
     "metadata": {},
     "output_type": "execute_result"
    }
   ],
   "source": [
    "import numpy as np \n",
    "import pandas as pd \n",
    "import matplotlib.pyplot as plt \n",
    "from sklearn.preprocessing import MinMaxScaler\n",
    "from keras.models import Sequential\n",
    "from keras.layers import Dense,LSTM,Dropout\n",
    "\n",
    "train_data = pd.read_csv('Google_train_data.csv')\n",
    "# Plot Google's stock prices for the first five days in the dataset\n",
    "train_data.head()"
   ]
  },
  {
   "cell_type": "code",
   "execution_count": 13,
   "id": "c93b932a",
   "metadata": {},
   "outputs": [
    {
     "name": "stdout",
     "output_type": "stream",
     "text": [
      "<class 'pandas.core.frame.DataFrame'>\n",
      "RangeIndex: 1258 entries, 0 to 1257\n",
      "Data columns (total 6 columns):\n",
      " #   Column  Non-Null Count  Dtype  \n",
      "---  ------  --------------  -----  \n",
      " 0   Date    1258 non-null   object \n",
      " 1   Open    1258 non-null   float64\n",
      " 2   High    1258 non-null   float64\n",
      " 3   Low     1258 non-null   float64\n",
      " 4   Close   1258 non-null   object \n",
      " 5   Volume  1258 non-null   object \n",
      "dtypes: float64(3), object(3)\n",
      "memory usage: 59.1+ KB\n"
     ]
    }
   ],
   "source": [
    "train_data.info()"
   ]
  },
  {
   "cell_type": "code",
   "execution_count": 14,
   "id": "614e91aa",
   "metadata": {},
   "outputs": [
    {
     "name": "stdout",
     "output_type": "stream",
     "text": [
      "<class 'pandas.core.frame.DataFrame'>\n",
      "Index: 1149 entries, 0 to 1257\n",
      "Data columns (total 6 columns):\n",
      " #   Column  Non-Null Count  Dtype  \n",
      "---  ------  --------------  -----  \n",
      " 0   Date    1149 non-null   object \n",
      " 1   Open    1149 non-null   float64\n",
      " 2   High    1149 non-null   float64\n",
      " 3   Low     1149 non-null   float64\n",
      " 4   Close   1149 non-null   float64\n",
      " 5   Volume  1149 non-null   object \n",
      "dtypes: float64(4), object(2)\n",
      "memory usage: 62.8+ KB\n"
     ]
    }
   ],
   "source": [
    "# will use the 'Close' column for training the model\n",
    "train_data[\"Close\"] = pd.to_numeric(train_data.Close, errors='coerce')  # conversion of the column to numeric data (object to float64)\n",
    "train_data = train_data.dropna()                                        # dropping missing values\n",
    "close_data_train = train_data.iloc[:,4:5].values                              # saving the close column values\n",
    "\n",
    "train_data.info()"
   ]
  },
  {
   "cell_type": "code",
   "execution_count": 15,
   "id": "30124ef8",
   "metadata": {},
   "outputs": [
    {
     "data": {
      "text/plain": [
       "(1149, 1)"
      ]
     },
     "execution_count": 15,
     "metadata": {},
     "output_type": "execute_result"
    }
   ],
   "source": [
    "sc = MinMaxScaler(feature_range=(0,1))\n",
    "close_data_train = sc.fit_transform(close_data_train)\n",
    "close_data_train.shape"
   ]
  },
  {
   "cell_type": "code",
   "execution_count": null,
   "id": "d2efa6d1",
   "metadata": {},
   "outputs": [
    {
     "data": {
      "text/plain": [
       "(1089, 60, 1)"
      ]
     },
     "execution_count": 16,
     "metadata": {},
     "output_type": "execute_result"
    }
   ],
   "source": [
    "X_train = []\n",
    "y_train = []\n",
    "\n",
    "for i in range (60,1149): # 60 is timestep(day sequences), 1149 is the length of dataset\n",
    "    X_train.append(close_data_train[i-60:i,0]) \n",
    "    y_train.append(close_data_train[i,0])\n",
    "\n",
    "X_train,y_train = np.array(X_train),np.array(y_train)\n",
    "\n",
    "X_train = np.reshape(X_train,(X_train.shape[0],X_train.shape[1],1)) # adding the batch_size axis, reshaping for LSTM\n",
    "X_train.shape"
   ]
  },
  {
   "cell_type": "markdown",
   "id": "2560ebec",
   "metadata": {},
   "source": [
    "LSTM Model"
   ]
  },
  {
   "cell_type": "code",
   "execution_count": null,
   "id": "6bc0cb9c",
   "metadata": {},
   "outputs": [
    {
     "name": "stdout",
     "output_type": "stream",
     "text": [
      "Epoch 1/20\n"
     ]
    },
    {
     "name": "stderr",
     "output_type": "stream",
     "text": [
      "c:\\Users\\User\\AppData\\Local\\Programs\\Python\\Python312\\Lib\\site-packages\\keras\\src\\layers\\rnn\\rnn.py:200: UserWarning: Do not pass an `input_shape`/`input_dim` argument to a layer. When using Sequential models, prefer using an `Input(shape)` object as the first layer in the model instead.\n",
      "  super().__init__(**kwargs)\n"
     ]
    },
    {
     "name": "stdout",
     "output_type": "stream",
     "text": [
      "35/35 - 8s - 215ms/step - loss: 0.0380\n",
      "Epoch 2/20\n",
      "35/35 - 2s - 63ms/step - loss: 0.0124\n",
      "Epoch 3/20\n",
      "35/35 - 2s - 68ms/step - loss: 0.0096\n",
      "Epoch 4/20\n",
      "35/35 - 2s - 65ms/step - loss: 0.0097\n",
      "Epoch 5/20\n",
      "35/35 - 2s - 65ms/step - loss: 0.0080\n",
      "Epoch 6/20\n",
      "35/35 - 2s - 67ms/step - loss: 0.0083\n",
      "Epoch 7/20\n",
      "35/35 - 2s - 58ms/step - loss: 0.0071\n",
      "Epoch 8/20\n",
      "35/35 - 2s - 65ms/step - loss: 0.0066\n",
      "Epoch 9/20\n",
      "35/35 - 2s - 65ms/step - loss: 0.0070\n",
      "Epoch 10/20\n",
      "35/35 - 2s - 67ms/step - loss: 0.0062\n",
      "Epoch 11/20\n",
      "35/35 - 2s - 67ms/step - loss: 0.0060\n",
      "Epoch 12/20\n",
      "35/35 - 2s - 66ms/step - loss: 0.0066\n",
      "Epoch 13/20\n",
      "35/35 - 2s - 61ms/step - loss: 0.0065\n",
      "Epoch 14/20\n",
      "35/35 - 2s - 67ms/step - loss: 0.0060\n",
      "Epoch 15/20\n",
      "35/35 - 2s - 62ms/step - loss: 0.0055\n",
      "Epoch 16/20\n",
      "35/35 - 2s - 62ms/step - loss: 0.0076\n",
      "Epoch 17/20\n",
      "35/35 - 2s - 65ms/step - loss: 0.0061\n",
      "Epoch 18/20\n",
      "35/35 - 2s - 58ms/step - loss: 0.0054\n",
      "Epoch 19/20\n",
      "35/35 - 2s - 64ms/step - loss: 0.0053\n",
      "Epoch 20/20\n",
      "35/35 - 2s - 57ms/step - loss: 0.0045\n"
     ]
    }
   ],
   "source": [
    "model = Sequential()\n",
    "\n",
    "model.add(LSTM(units=100, return_sequences = True, input_shape =(X_train.shape[1],1)))\n",
    "model.add(Dropout(0.2)) #20% dropout after each LSTM to prevent overfitting\n",
    "\n",
    "model.add(LSTM(units=100, return_sequences = True))\n",
    "model.add(Dropout(0.2))\n",
    "\n",
    "model.add(LSTM(units=100, return_sequences = True))\n",
    "model.add(Dropout(0.2))\n",
    "\n",
    "model.add(LSTM(units=100, return_sequences = False))\n",
    "model.add(Dropout(0.2))\n",
    "\n",
    "model.add(Dense(units =1))\n",
    "model.compile(optimizer='adam',loss=\"mean_squared_error\") # using Adam optimizer and mean squared error (MSE) loss\n",
    "hist = model.fit(X_train, y_train, epochs = 20, batch_size = 32, verbose=2)"
   ]
  },
  {
   "cell_type": "code",
   "execution_count": 18,
   "id": "5b98caef",
   "metadata": {},
   "outputs": [
    {
     "data": {
      "image/png": "[encoded data removed]",
      "text/plain": [
       "<Figure size 640x480 with 1 Axes>"
      ]
     },
     "metadata": {},
     "output_type": "display_data"
    }
   ],
   "source": [
    "plt.plot(hist.history['loss'])\n",
    "plt.title('Training Loss Over Time')\n",
    "plt.ylabel('Loss')\n",
    "plt.xlabel('Epoch')\n",
    "plt.legend(['Training Loss'], loc='upper right')\n",
    "plt.show()"
   ]
  },
  {
   "cell_type": "code",
   "execution_count": 19,
   "id": "43d44217",
   "metadata": {},
   "outputs": [
    {
     "data": {
      "text/plain": [
       "(192, 60, 1)"
      ]
     },
     "execution_count": 19,
     "metadata": {},
     "output_type": "execute_result"
    }
   ],
   "source": [
    "# repeating the process for test data\n",
    "test_data = pd.read_csv('Google_test_data.csv')\n",
    "test_data[\"Close\"]=pd.to_numeric(test_data.Close,errors='coerce')\n",
    "test_data = test_data.dropna()\n",
    "test_data = test_data.iloc[:,4:5]\n",
    "\n",
    "y_test = test_data.iloc[60:,0:].values\n",
    "inputClosing = test_data.iloc[:,0:].values \n",
    "inputClosing_scaled = sc.transform(inputClosing)\n",
    "inputClosing_scaled.shape\n",
    "X_test = []\n",
    "\n",
    "for i in range(60,len(test_data)):  \n",
    "    X_test.append(inputClosing_scaled[i-60:i,0])\n",
    "X_test = np.array(X_test)\n",
    "X_test = np.reshape(X_test,(X_test.shape[0],X_test.shape[1],1))\n",
    "X_test.shape"
   ]
  },
  {
   "cell_type": "code",
   "execution_count": 22,
   "id": "c339bd63",
   "metadata": {},
   "outputs": [
    {
     "name": "stdout",
     "output_type": "stream",
     "text": [
      "\u001b[1m6/6\u001b[0m \u001b[32m━━━━━━━━━━━━━━━━━━━━\u001b[0m\u001b[37m\u001b[0m \u001b[1m0s\u001b[0m 25ms/step\n",
      "[[1.239924 ]\n",
      " [1.2437072]\n",
      " [1.2552733]\n",
      " [1.272771 ]\n",
      " [1.2881687]\n",
      " [1.2911744]\n",
      " [1.280557 ]\n",
      " [1.2628955]\n",
      " [1.2491657]\n",
      " [1.243183 ]\n",
      " [1.2356155]\n",
      " [1.2245729]\n",
      " [1.2142243]\n",
      " [1.2046083]\n",
      " [1.2014585]\n",
      " [1.2050027]\n",
      " [1.2216394]\n",
      " [1.2495319]\n",
      " [1.2830501]\n",
      " [1.3174331]\n",
      " [1.3349692]\n",
      " [1.3353662]\n",
      " [1.3171653]\n",
      " [1.2876107]\n",
      " [1.2582651]\n",
      " [1.238716 ]\n",
      " [1.231097 ]\n",
      " [1.2290161]\n",
      " [1.2229317]\n",
      " [1.2135017]\n",
      " [1.2024221]\n",
      " [1.1894113]\n",
      " [1.1701449]\n",
      " [1.1458   ]\n",
      " [1.1333668]\n",
      " [1.1394547]\n",
      " [1.1594945]\n",
      " [1.1850902]\n",
      " [1.2109411]\n",
      " [1.2266393]\n",
      " [1.2406281]\n",
      " [1.2558705]\n",
      " [1.2730057]\n",
      " [1.2892933]\n",
      " [1.3009164]\n",
      " [1.3034585]\n",
      " [1.2946936]\n",
      " [1.2847682]\n",
      " [1.2799987]\n",
      " [1.2833539]\n",
      " [1.2947437]\n",
      " [1.3043795]\n",
      " [1.308685 ]\n",
      " [1.3073499]\n",
      " [1.3059524]\n",
      " [1.3024364]\n",
      " [1.2945489]\n",
      " [1.2895455]\n",
      " [1.2961656]\n",
      " [1.3126249]\n",
      " [1.3380593]\n",
      " [1.3698341]\n",
      " [1.394693 ]\n",
      " [1.4028212]\n",
      " [1.3940264]\n",
      " [1.3745363]\n",
      " [1.357788 ]\n",
      " [1.3493538]\n",
      " [1.3495138]\n",
      " [1.353624 ]\n",
      " [1.3592491]\n",
      " [1.3635496]\n",
      " [1.3617363]\n",
      " [1.3570874]\n",
      " [1.3522917]\n",
      " [1.3501875]\n",
      " [1.3514374]\n",
      " [1.3559391]\n",
      " [1.3669457]\n",
      " [1.3842984]\n",
      " [1.407329 ]\n",
      " [1.4305574]\n",
      " [1.4456887]\n",
      " [1.4500421]\n",
      " [1.4533336]\n",
      " [1.463332 ]\n",
      " [1.4793211]\n",
      " [1.494827 ]\n",
      " [1.5051057]\n",
      " [1.5086958]\n",
      " [1.5101829]\n",
      " [1.5176834]\n",
      " [1.5329672]\n",
      " [1.5454823]\n",
      " [1.5471765]\n",
      " [1.536349 ]\n",
      " [1.5149227]\n",
      " [1.4882915]\n",
      " [1.46414  ]\n",
      " [1.4521827]\n",
      " [1.4550064]\n",
      " [1.4699031]\n",
      " [1.4927053]\n",
      " [1.5151361]\n",
      " [1.5310574]\n",
      " [1.537099 ]\n",
      " [1.5358331]\n",
      " [1.5312779]\n",
      " [1.5294794]\n",
      " [1.532475 ]\n",
      " [1.5402503]\n",
      " [1.5524055]\n",
      " [1.5658357]\n",
      " [1.58038  ]\n",
      " [1.5977668]\n",
      " [1.6132535]\n",
      " [1.6253895]\n",
      " [1.6352811]\n",
      " [1.6464967]\n",
      " [1.6324657]\n",
      " [1.5883825]\n",
      " [1.5269923]\n",
      " [1.4713488]\n",
      " [1.4349952]\n",
      " [1.4170308]\n",
      " [1.4116156]\n",
      " [1.4130011]\n",
      " [1.4181706]\n",
      " [1.4175982]\n",
      " [1.4074762]\n",
      " [1.40138  ]\n",
      " [1.4081059]\n",
      " [1.4224854]\n",
      " [1.4327904]\n",
      " [1.4372813]\n",
      " [1.4375659]\n",
      " [1.4332259]\n",
      " [1.4242028]\n",
      " [1.412984 ]\n",
      " [1.3982991]\n",
      " [1.382533 ]\n",
      " [1.3654469]\n",
      " [1.3340187]\n",
      " [1.2946682]\n",
      " [1.2546779]\n",
      " [1.2217367]\n",
      " [1.2047608]\n",
      " [1.2077426]\n",
      " [1.2262404]\n",
      " [1.251979 ]\n",
      " [1.2798471]\n",
      " [1.30427  ]\n",
      " [1.3234258]\n",
      " [1.3388709]\n",
      " [1.3504817]\n",
      " [1.3598449]\n",
      " [1.3693312]\n",
      " [1.3770803]\n",
      " [1.3750322]\n",
      " [1.3613677]\n",
      " [1.3395201]\n",
      " [1.3165815]\n",
      " [1.3015633]\n",
      " [1.2999574]\n",
      " [1.312252 ]\n",
      " [1.3354129]\n",
      " [1.3592554]\n",
      " [1.3789674]\n",
      " [1.3957759]\n",
      " [1.4103514]\n",
      " [1.4220461]\n",
      " [1.4311653]\n",
      " [1.4380965]\n",
      " [1.4409056]\n",
      " [1.4394593]\n",
      " [1.4311817]\n",
      " [1.4197108]\n",
      " [1.4104992]\n",
      " [1.4038417]\n",
      " [1.3982172]\n",
      " [1.4206432]\n",
      " [1.4689608]\n",
      " [1.5244948]\n",
      " [1.5687411]\n",
      " [1.5915139]\n",
      " [1.5898995]\n",
      " [1.5605177]\n",
      " [1.5184476]\n",
      " [1.4785463]\n",
      " [1.4567227]\n",
      " [1.4511673]\n",
      " [1.453092 ]]\n"
     ]
    }
   ],
   "source": [
    "y_prediction = model.predict(X_test)\n",
    "print(y_prediction)"
   ]
  },
  {
   "cell_type": "code",
   "execution_count": 23,
   "id": "ee2d2a87",
   "metadata": {},
   "outputs": [
    {
     "data": {
      "image/png": "[encoded data removed]",
      "text/plain": [
       "<Figure size 640x480 with 1 Axes>"
      ]
     },
     "metadata": {},
     "output_type": "display_data"
    }
   ],
   "source": [
    "prediction = sc.inverse_transform(y_prediction)\n",
    "plt.plot(y_test, color = 'Blue', label = 'Actual Stock Price')\n",
    "plt.plot(prediction, color = 'Green', label = 'Predicted Stock Price')\n",
    "plt.title('Google stock price prediction')\n",
    "plt.xlabel('Time')\n",
    "plt.ylabel('Stock Price')\n",
    "plt.legend()\n",
    "plt.show()"
   ]
  }
 ],
 "metadata": {
  "kernelspec": {
   "display_name": "Python 3",
   "language": "python",
   "name": "python3"
  },
  "language_info": {
   "codemirror_mode": {
    "name": "ipython",
    "version": 3
   },
   "file_extension": ".py",
   "mimetype": "text/x-python",
   "name": "python",
   "nbconvert_exporter": "python",
   "pygments_lexer": "ipython3",
   "version": "3.12.4"
  }
 },
 "nbformat": 4,
 "nbformat_minor": 5
}
